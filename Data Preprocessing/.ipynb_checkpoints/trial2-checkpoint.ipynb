{
 "cells": [
  {
   "cell_type": "code",
   "execution_count": 1,
   "metadata": {},
   "outputs": [],
   "source": [
    "import json\n",
    "\n",
    "filepath = '/Users/mithyyin/Documents/GitHub/TeamEve/Data Preprocessing/train.json'\n",
    "\n",
    "with open(filepath, 'r') as f:\n",
    "    data = json.load(f)"
   ]
  },
  {
   "cell_type": "code",
   "execution_count": 2,
   "metadata": {},
   "outputs": [
    {
     "name": "stdout",
     "output_type": "stream",
     "text": [
      "<class 'dict'>\n"
     ]
    }
   ],
   "source": [
    "print(type(data))"
   ]
  },
  {
   "cell_type": "code",
   "execution_count": 31,
   "metadata": {},
   "outputs": [
    {
     "name": "stdout",
     "output_type": "stream",
     "text": [
      "{'file_name': 'images_withoutrect/11004.png', 'height': 1080, 'width': 1920, 'image_id': 11004}\n"
     ]
    }
   ],
   "source": [
    "#for info in data['images']:\n",
    "    #print(info)\n",
    "    #print(type(info))\n",
    "    \n",
    "print(data['images']['file_path'])"
   ]
  },
  {
   "cell_type": "code",
   "execution_count": 16,
   "metadata": {},
   "outputs": [
    {
     "name": "stdout",
     "output_type": "stream",
     "text": [
      "<class 'list'>\n"
     ]
    }
   ],
   "source": [
    "print(type(data['images']))\n",
    "#for info in data['images']:\n",
    "    #print(info['file_name'])\n",
    "    #annotation_1 = []"
   ]
  },
  {
   "cell_type": "code",
   "execution_count": 26,
   "metadata": {},
   "outputs": [
    {
     "name": "stderr",
     "output_type": "stream",
     "text": [
      "IOPub data rate exceeded.\n",
      "The notebook server will temporarily stop sending output\n",
      "to the client in order to avoid crashing it.\n",
      "To change this limit, set the config variable\n",
      "`--NotebookApp.iopub_data_rate_limit`.\n",
      "\n",
      "Current values:\n",
      "NotebookApp.iopub_data_rate_limit=1000000.0 (bytes/sec)\n",
      "NotebookApp.rate_limit_window=3.0 (secs)\n",
      "\n"
     ]
    }
   ],
   "source": [
    "for key, value in data.items():\n",
    "    print(\"Key:\")\n",
    "    print(key)\n",
    "    \n",
    "print(data['images'])"
   ]
  },
  {
   "cell_type": "code",
   "execution_count": 36,
   "metadata": {},
   "outputs": [],
   "source": [
    "seperator = ','\n",
    "\n",
    "#lst_s_points = [\" \".join(map(str, lst)) for lst in lst_points]\n",
    "#for info in data['annotations']:\n",
    "    #print(info['image_id'])\n",
    "    #print(info['bbox'])\n",
    "    #print(type(info['bbox']))\n",
    "    #print(info['category_id'])\n",
    "\n",
    "annotation_1 = [seperator.join(map(str,info['bbox'])) + ',' + str(info['category_id']) for info in data['annotations']]"
   ]
  },
  {
   "cell_type": "code",
   "execution_count": 50,
   "metadata": {},
   "outputs": [
    {
     "name": "stdout",
     "output_type": "stream",
     "text": [
      "636.08832,305.77176,298.5888,274.32108000000005,2\n",
      "80000\n",
      "images_withoutrect/11003.png\n"
     ]
    }
   ],
   "source": [
    "#a different set of data that is capble \n",
    "\n",
    "# creating a list that includes the format, and write that into a file\n",
    "\n",
    "print(annotation_1[0])\n",
    "print(len(data['images']))\n",
    "print(data['images'][0]['file_name'])"
   ]
  },
  {
   "cell_type": "code",
   "execution_count": 53,
   "metadata": {},
   "outputs": [
    {
     "ename": "SyntaxError",
     "evalue": "unexpected EOF while parsing (<ipython-input-53-0ce2e126293d>, line 3)",
     "output_type": "error",
     "traceback": [
      "\u001b[0;36m  File \u001b[0;32m\"<ipython-input-53-0ce2e126293d>\"\u001b[0;36m, line \u001b[0;32m3\u001b[0m\n\u001b[0;31m    annotation_2.append(str(annotation_1[i]) + \" \" + str(data['images'][i]['file_name'])\u001b[0m\n\u001b[0m                                                                                        ^\u001b[0m\n\u001b[0;31mSyntaxError\u001b[0m\u001b[0;31m:\u001b[0m unexpected EOF while parsing\n"
     ]
    }
   ],
   "source": [
    "annotation_2 = ['images_withoutrect/11003.png 636.08832,305.77176,298.5888,274.32108000000005,2']\n",
    "for i in range(0,80001):\n",
    "    annotation_2.append(str(annotation_1[i]) + \" \" + str(data['images'][i]['file_name'])"
   ]
  },
  {
   "cell_type": "code",
   "execution_count": null,
   "metadata": {},
   "outputs": [],
   "source": []
  }
 ],
 "metadata": {
  "kernelspec": {
   "display_name": "Python 3",
   "language": "python",
   "name": "python3"
  },
  "language_info": {
   "codemirror_mode": {
    "name": "ipython",
    "version": 3
   },
   "file_extension": ".py",
   "mimetype": "text/x-python",
   "name": "python",
   "nbconvert_exporter": "python",
   "pygments_lexer": "ipython3",
   "version": "3.6.5"
  }
 },
 "nbformat": 4,
 "nbformat_minor": 2
}
