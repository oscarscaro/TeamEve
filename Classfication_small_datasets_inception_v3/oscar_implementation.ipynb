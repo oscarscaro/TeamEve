{
 "cells": [
  {
   "cell_type": "markdown",
   "metadata": {},
   "source": [
    "Drawing a subset of data from biendata"
   ]
  },
  {
   "cell_type": "code",
   "execution_count": 2,
   "metadata": {},
   "outputs": [],
   "source": [
    "import os, shutil, csv"
   ]
  },
  {
   "cell_type": "code",
   "execution_count": 11,
   "metadata": {},
   "outputs": [],
   "source": [
    "#original_dataset_dir = '/Users/mithyyin/Documents/GitHub/TeamEve/Classfication_small_datasets_inception_v3/waste_original_dataset' #directory name of your biendata\n",
    "original_dataset_dir =r'C:\\Users\\oscarscaro\\Documents\\GitHub\\TeamEve\\Classfication_small_datasets_inception_v3\\images_withoutrect'\n",
    "base_dir = './data_small' #create a directory for the data subset\n",
    "\n",
    "#os.mkdir(base_dir)\n",
    "\n",
    "#creating a new folder for each set\n",
    "train_dir = os.path.join(base_dir, 'train') \n",
    "#os.mkdir(train_dir)\n",
    "validation_dir = os.path.join(base_dir, 'validation') \n",
    "#os.mkdir(validation_dir) \n",
    "test_dir = os.path.join(base_dir, 'test') \n",
    "#os.mkdir(test_dir)"
   ]
  },
  {
   "cell_type": "code",
   "execution_count": 12,
   "metadata": {},
   "outputs": [],
   "source": [
    "#making a folder for each category inside train folder\n",
    "#there are 204 categories with ID 1..204\n",
    "\n",
    "for i in range(1,205):\n",
    "    train_categories_dir = os.path.join(train_dir, str(i))\n",
    "    #os.mkdir(train_categories_dir)\n",
    "    \n",
    "for i in range(1,205):\n",
    "    validation_categories_dir = os.path.join(validation_dir, str(i))\n",
    "    #os.mkdir(validation_categories_dir)\n",
    "    \n",
    "for i in range(1,205):\n",
    "    test_categories_dir = os.path.join(test_dir,str(i))\n",
    "    #os.mkdir(test_categories_dir)"
   ]
  },
  {
   "cell_type": "code",
   "execution_count": 13,
   "metadata": {},
   "outputs": [],
   "source": [
    "#importing csv files, and change it into a list\n",
    "\n",
    "with open('train.csv', newline='') as csvfile:\n",
    "    data = list(csv.reader(csvfile))"
   ]
  },
  {
   "cell_type": "code",
   "execution_count": 14,
   "metadata": {},
   "outputs": [
    {
     "data": {
      "text/plain": [
       "['category_id', 'image_id', 'file_name']"
      ]
     },
     "execution_count": 14,
     "metadata": {},
     "output_type": "execute_result"
    }
   ],
   "source": [
    "data.pop(0)"
   ]
  },
  {
   "cell_type": "code",
   "execution_count": 15,
   "metadata": {},
   "outputs": [
    {
     "name": "stdout",
     "output_type": "stream",
     "text": [
      "11739\n",
      "80000\n"
     ]
    }
   ],
   "source": [
    "print(data[i][1])\n",
    "print(len(data))\n"
   ]
  },
  {
   "cell_type": "code",
   "execution_count": null,
   "metadata": {},
   "outputs": [],
   "source": [
    "#rewritten code number 2\n",
    "for i in range(1,205):\n",
    "    directory = os.path.join(original_dataset_dir,str(i))\n",
    "    \n",
    "    fnames = []\n",
    "    for i in len(data)\n",
    "        fnames.append(data[i][1])\n",
    "    \n",
    "    for fname in os.listdir(directory):\n",
    "        #src = os.path.join(original_dataset_dir, fname) \n",
    "        dst = os.path.join(train_cats_dir, fname)\n",
    "        shutil.copyfile(fname, dst)"
   ]
  },
  {
   "cell_type": "code",
   "execution_count": 16,
   "metadata": {},
   "outputs": [],
   "source": [
    "#rewritten code fort iterating over a datasets\n",
    "import os\n",
    "\n",
    "#directory = os.fsencode('waste_original_dataset')\n",
    "\n",
    "#for category in os.listdir(directory):\n",
    "for i in range(1,205):\n",
    "    count1 = 0\n",
    "    file = os.path.join(original_dataset_dir, str(i))\n",
    "    #fnames = ['cat.{}.jpg'.format(i) for i in data[i][1]]\n",
    "    #training\n",
    "    if i == 36:\n",
    "        continue\n",
    "    if i == 96:\n",
    "        continue\n",
    "    if i == 121:\n",
    "        continue\n",
    "    if i == 147:\n",
    "        continue\n",
    "    if i == 174:\n",
    "        continue\n",
    "    if i == 175: \n",
    "        continue\n",
    "    for fname in os.listdir(file):\n",
    "        if count1 <= 100:\n",
    "            src = os.path.join(file, fname)\n",
    "            file_path = os.path.join(train_dir,str(i))\n",
    "            dst = os.path.join(file_path, fname)\n",
    "            shutil.copyfile(src, dst)\n",
    "            count1 += 1\n",
    "        if count1 > 100 and count1<=150:\n",
    "            src = os.path.join(file, fname)\n",
    "            file_path = os.path.join(validation_dir,str(i))\n",
    "            dst = os.path.join(file_path, fname)\n",
    "            shutil.copyfile(src, dst)\n",
    "            count1 += 1\n",
    "        if count1 > 150 and count1<=200:\n",
    "            src = os.path.join(file, fname)\n",
    "            file_path = os.path.join(test_dir,str(i))\n",
    "            dst = os.path.join(file_path, fname)\n",
    "            shutil.copyfile(src, dst)\n",
    "            count1 += 1"
   ]
  },
  {
   "cell_type": "code",
   "execution_count": null,
   "metadata": {},
   "outputs": [],
   "source": [
    "#checking if it is indeed the amount\n",
    "print('total training images:', len(os.listdir(train_cats_dir)))"
   ]
  },
  {
   "cell_type": "markdown",
   "metadata": {},
   "source": [
    "Training model building"
   ]
  },
  {
   "cell_type": "code",
   "execution_count": 17,
   "metadata": {},
   "outputs": [
    {
     "name": "stderr",
     "output_type": "stream",
     "text": [
      "Using TensorFlow backend.\n"
     ]
    }
   ],
   "source": [
    "import numpy as np\n",
    "import tensorflow as tf\n",
    "from keras.datasets import cifar10\n",
    "from keras.layers import Dense, Dropout, Activation, Flatten, Lambda, BatchNormalization\n",
    "from keras.layers import Convolution2D, MaxPooling2D, AveragePooling2D\n",
    "from keras.engine import Input, Model\n",
    "from keras.optimizers import SGD\n",
    "from keras.callbacks import Callback, LearningRateScheduler, ModelCheckpoint, EarlyStopping\n",
    "from keras.preprocessing.image import ImageDataGenerator\n",
    "from keras.utils import np_utils\n",
    "import keras.backend as K\n",
    "import json\n",
    "import time\n",
    "import keras"
   ]
  },
  {
   "cell_type": "code",
   "execution_count": 18,
   "metadata": {},
   "outputs": [
    {
     "name": "stdout",
     "output_type": "stream",
     "text": [
      "[PhysicalDevice(name='/physical_device:GPU:0', device_type='GPU')]\n"
     ]
    }
   ],
   "source": [
    "gpus = tf.config.experimental.list_physical_devices(device_type='GPU')\n",
    "print(gpus)\n",
    "for gpu in gpus:\n",
    "    tf.config.experimental.set_memory_growth(gpu, enable=True)"
   ]
  },
  {
   "cell_type": "markdown",
   "metadata": {},
   "source": [
    "As of keras 2, the module keras.layers.merge doesn't have a generic public Merge-Layer. Instead you are supposed to import the subclasses like keras.layers.Add or keras.layers.Concatenate etc. directly (or their functional interfaces with the same names lowercase: keras.layers.add, keras.layers.concatenate etc.)."
   ]
  },
  {
   "cell_type": "code",
   "execution_count": 19,
   "metadata": {},
   "outputs": [],
   "source": [
    "#complete building function of Resnet x Inception v2\n",
    "# we reduce # filters by factor of 8 compared to original inception-v4\n",
    "nb_filters_reduction_factor = 8\n",
    "\n",
    "def inception_resnet_v2_stem(x):\n",
    "    # in original inception-resnet-v2, conv stride is 2\n",
    "    x = Convolution2D(32//nb_filters_reduction_factor, (3, 3), strides=(1, 1), activation='relu',\n",
    "                      kernel_initializer='he_normal', padding='valid', data_format=\"channels_last\")(x)\n",
    "    x = Convolution2D(32//nb_filters_reduction_factor, (3, 3), strides=(1, 1), activation='relu',\n",
    "                      kernel_initializer='he_normal', padding='valid', data_format=\"channels_last\")(x)\n",
    "    x = Convolution2D(64//nb_filters_reduction_factor, (3, 3), strides=(1, 1), activation='relu',\n",
    "                      kernel_initializer='he_normal', padding='same', data_format=\"channels_last\")(x)\n",
    "    \n",
    "    # in original inception-resnet-v2, stride is 2\n",
    "    a = MaxPooling2D((3, 3), strides=(1, 1), padding='valid', data_format=\"channels_last\")(x)\n",
    "    # in original inception-resnet-v2, conv stride is 2\n",
    "    b = Convolution2D(96//nb_filters_reduction_factor, (3, 3), strides=(1, 1), activation='relu',\n",
    "                      kernel_initializer='he_normal', padding='valid', data_format=\"channels_last\")(x)\n",
    "   # x = merge([a, b], mode='concat', concat_axis=-1)\n",
    "    x = keras.layers.concatenate([a,b],axis=-1)\n",
    "    \n",
    "    a = Convolution2D(64//nb_filters_reduction_factor, (1, 1), strides=(1, 1), activation='relu',\n",
    "                      kernel_initializer='he_normal', padding='same', data_format=\"channels_last\")(x)\n",
    "    a = Convolution2D(96//nb_filters_reduction_factor, (3, 3), strides=(1, 1), activation='relu',\n",
    "                      kernel_initializer='he_normal', padding='valid', data_format=\"channels_last\")(a)\n",
    "    b = Convolution2D(64//nb_filters_reduction_factor, (1, 1), strides=(1, 1), activation='relu',\n",
    "                      kernel_initializer='he_normal', padding='same', data_format=\"channels_last\")(x)\n",
    "    b = Convolution2D(64//nb_filters_reduction_factor, (7, 1), strides=(1, 1), activation='relu',\n",
    "                      kernel_initializer='he_normal', padding='same', data_format=\"channels_last\")(b)\n",
    "    b = Convolution2D(64//nb_filters_reduction_factor, (1, 7), strides=(1, 1), activation='relu',\n",
    "                      kernel_initializer='he_normal', padding='same', data_format=\"channels_last\")(b)\n",
    "    b = Convolution2D(96//nb_filters_reduction_factor, (3, 3), strides=(1, 1), activation='relu',\n",
    "                      kernel_initializer='he_normal', padding='valid', data_format=\"channels_last\")(b)\n",
    "    x = keras.layers.concatenate([a,b],axis=-1)\n",
    "    \n",
    "    # in original inception-resnet-v2, conv stride should be 2\n",
    "    a = Convolution2D(192//nb_filters_reduction_factor, (3, 3), strides=(1, 1), activation='relu',\n",
    "                      kernel_initializer='he_normal', padding='valid', data_format=\"channels_last\")(x)\n",
    "    # in original inception-resnet-v2, stride is 2\n",
    "    b = MaxPooling2D((3, 3), strides=(1, 1), padding='valid', data_format=\"channels_last\")(x)\n",
    "    x = keras.layers.concatenate([a,b],axis=-1)\n",
    "    \n",
    "    x = Activation('relu')(x)\n",
    "    return x\n",
    "\n",
    "def inception_resnet_v2_A(x):\n",
    "    shortcut = x\n",
    "    \n",
    "    a = Convolution2D(32//nb_filters_reduction_factor, (1, 1), strides=(1, 1), activation='relu',\n",
    "                      kernel_initializer='he_normal', padding='same', data_format=\"channels_last\")(x)\n",
    "    \n",
    "    b = Convolution2D(32//nb_filters_reduction_factor, (1, 1), strides=(1, 1), activation='relu',\n",
    "                      kernel_initializer='he_normal', padding='same', data_format=\"channels_last\")(x)\n",
    "    b = Convolution2D(32//nb_filters_reduction_factor, (3, 3), strides=(1, 1), activation='relu',\n",
    "                      kernel_initializer='he_normal', padding='same', data_format=\"channels_last\")(b)\n",
    "    \n",
    "    c = Convolution2D(32//nb_filters_reduction_factor, (1, 1), strides=(1, 1), activation='relu',\n",
    "                      kernel_initializer='he_normal', padding='same', data_format=\"channels_last\")(x)\n",
    "    c = Convolution2D(48//nb_filters_reduction_factor, (3, 3), strides=(1, 1), activation='relu',\n",
    "                      kernel_initializer='he_normal', padding='same', data_format=\"channels_last\")(c)\n",
    "    c = Convolution2D(64//nb_filters_reduction_factor, (3, 3), strides=(1, 1), activation='relu',\n",
    "                      kernel_initializer='he_normal', padding='same', data_format=\"channels_last\")(c)\n",
    "    \n",
    "    x = keras.layers.concatenate([a,b,c],axis=-1)\n",
    "    x = Convolution2D(384//nb_filters_reduction_factor, (1, 1), strides=(1, 1), activation='linear',\n",
    "                      kernel_initializer='he_normal', padding='same', data_format=\"channels_last\")(x)\n",
    "    \n",
    "    #x = merge([shortcut, x], mode='sum')\n",
    "    x = keras.layers.add([shortcut,x])\n",
    "    x = Activation('relu')(x)\n",
    "    \n",
    "    return x\n",
    "\n",
    "def inception_resnet_v2_reduction_A(x):\n",
    "    a = MaxPooling2D((3, 3), strides=(2, 2), padding='valid', data_format=\"channels_last\")(x)\n",
    "    b = Convolution2D(384//nb_filters_reduction_factor, (3, 3), strides=(2, 2), activation='relu',\n",
    "                      kernel_initializer='he_normal', padding='valid', data_format=\"channels_last\")(x)\n",
    "    c = Convolution2D(256//nb_filters_reduction_factor, (1, 1), strides=(1, 1), activation='relu',\n",
    "                      kernel_initializer='he_normal', padding='same', data_format=\"channels_last\")(x)\n",
    "    c = Convolution2D(256//nb_filters_reduction_factor, (3, 3), strides=(1, 1), activation='relu',\n",
    "                      kernel_initializer='he_normal', padding='same', data_format=\"channels_last\")(c)\n",
    "    c = Convolution2D(384//nb_filters_reduction_factor, (3, 3), strides=(2, 2), activation='relu',\n",
    "                      kernel_initializer='he_normal', padding='valid', data_format=\"channels_last\")(c)\n",
    "    \n",
    "    x = keras.layers.concatenate([a,b,c],axis=-1)\n",
    "    \n",
    "    return x\n",
    "    \n",
    "\n",
    "def inception_resnet_v2_B(x):\n",
    "    shortcut = x\n",
    "    \n",
    "    a = Convolution2D(192//nb_filters_reduction_factor, (1, 1), strides=(1, 1), activation='relu',\n",
    "                      kernel_initializer='he_normal', padding='same', data_format=\"channels_last\")(x)\n",
    "    \n",
    "    b = Convolution2D(128//nb_filters_reduction_factor, (1, 1), strides=(1, 1), activation='relu',\n",
    "                      kernel_initializer='he_normal', padding='same', data_format=\"channels_last\")(x)\n",
    "    b = Convolution2D(160//nb_filters_reduction_factor, (1, 7), strides=(1, 1), activation='relu',\n",
    "                      kernel_initializer='he_normal', padding='same', data_format=\"channels_last\")(b)\n",
    "    b = Convolution2D(192//nb_filters_reduction_factor, (7, 1), strides=(1, 1), activation='relu',\n",
    "                      kernel_initializer='he_normal', padding='same', data_format=\"channels_last\")(b)\n",
    "    \n",
    "    x = keras.layers.concatenate([a,b],axis=-1)\n",
    "    x = Convolution2D(1154//nb_filters_reduction_factor, (1, 1), strides=(1, 1), activation='linear',\n",
    "                      kernel_initializer='he_normal', padding='same', data_format=\"channels_last\")(x)\n",
    "    \n",
    "    #x = merge([shortcut, x], mode='sum')\n",
    "    x = keras.layers.add([shortcut,x])\n",
    "    x = Activation('relu')(x)\n",
    "    \n",
    "    return x\n",
    "\n",
    "def inception_resnet_v2_reduction_B(x):\n",
    "    a = MaxPooling2D((3, 3), strides=(2, 2), padding='valid', data_format=\"channels_last\")(x)\n",
    "    b = Convolution2D(256//nb_filters_reduction_factor, (1, 1), strides=(1, 1), activation='relu',\n",
    "                      kernel_initializer='he_normal', padding='same', data_format=\"channels_last\")(x)\n",
    "    b = Convolution2D(288//nb_filters_reduction_factor, (3, 3), strides=(2, 2), activation='relu',\n",
    "                      kernel_initializer='he_normal', padding='valid', data_format=\"channels_last\")(b)\n",
    "    c = Convolution2D(256//nb_filters_reduction_factor, (1, 1), strides=(1, 1), activation='relu',\n",
    "                      kernel_initializer='he_normal', padding='same', data_format=\"channels_last\")(x)\n",
    "    c = Convolution2D(288//nb_filters_reduction_factor, (3, 3), strides=(2, 2), activation='relu',\n",
    "                      kernel_initializer='he_normal', padding='valid', data_format=\"channels_last\")(c)\n",
    "    d = Convolution2D(256//nb_filters_reduction_factor, (1, 1), strides=(1, 1), activation='relu',\n",
    "                      kernel_initializer='he_normal', padding='same', data_format=\"channels_last\")(x)\n",
    "    d = Convolution2D(288//nb_filters_reduction_factor, (3, 3), strides=(1, 1), activation='relu',\n",
    "                      kernel_initializer='he_normal', padding='same', data_format=\"channels_last\")(d)\n",
    "    d = Convolution2D(320//nb_filters_reduction_factor, (3, 3), strides=(2, 2), activation='relu',\n",
    "                      kernel_initializer='he_normal', padding='valid', data_format=\"channels_last\")(d)\n",
    "    \n",
    "    x = keras.layers.concatenate([a,b,c,d],axis=-1)\n",
    "    \n",
    "    return x\n",
    "\n",
    "\n",
    "def inception_resnet_v2_C(x):\n",
    "    shortcut = x\n",
    "    \n",
    "    a = Convolution2D(192//nb_filters_reduction_factor, (1, 1), strides=(1, 1), activation='relu',\n",
    "                      kernel_initializer='he_normal', padding='same', data_format=\"channels_last\")(x)\n",
    "    \n",
    "    b = Convolution2D(192//nb_filters_reduction_factor, (1, 1), strides=(1, 1), activation='relu',\n",
    "                      kernel_initializer='he_normal', padding='same', data_format=\"channels_last\")(x)\n",
    "    b = Convolution2D(224//nb_filters_reduction_factor, (1, 3), strides=(1, 1), activation='relu',\n",
    "                      kernel_initializer='he_normal', padding='same', data_format=\"channels_last\")(b)\n",
    "    b = Convolution2D(256//nb_filters_reduction_factor, (3, 1), strides=(1, 1), activation='relu',\n",
    "                      kernel_initializer='he_normal', padding='same', data_format=\"channels_last\")(b)\n",
    "    \n",
    "    x = keras.layers.concatenate([a,b],axis=-1)\n",
    "    x = Convolution2D(2048//nb_filters_reduction_factor, (1, 1), strides=(1, 1), activation='linear',\n",
    "                      kernel_initializer='he_normal', padding='same', data_format=\"channels_last\")(x)\n",
    "    \n",
    "   # x = merge([shortcut, x], mode='sum')\n",
    "    x = keras.layers.add([shortcut,x])\n",
    "    x = Activation('relu')(x)\n",
    "    \n",
    "    return x"
   ]
  },
  {
   "cell_type": "code",
   "execution_count": 21,
   "metadata": {},
   "outputs": [
    {
     "name": "stderr",
     "output_type": "stream",
     "text": [
      "c:\\program files\\python36\\lib\\site-packages\\ipykernel_launcher.py:29: UserWarning: Update your `Model` call to the Keras 2 API: `Model(inputs=Tensor(\"in..., outputs=Tensor(\"de...)`\n"
     ]
    }
   ],
   "source": [
    "img_rows, img_cols = 150, 150\n",
    "img_channels = 3\n",
    "\n",
    "nb_classes = 204\n",
    "\n",
    "# in original inception-resnet-v2, these are 5, 10, 5, respectively\n",
    "num_A_blocks = 1\n",
    "num_B_blocks = 1\n",
    "num_C_blocks = 1\n",
    "\n",
    "inputs = Input(shape=(img_rows, img_cols, img_channels))\n",
    "\n",
    "x = inception_resnet_v2_stem(inputs)\n",
    "for i in range(num_A_blocks):\n",
    "    x = inception_resnet_v2_A(x)\n",
    "x = inception_resnet_v2_reduction_A(x)\n",
    "for i in range(num_B_blocks):\n",
    "    x = inception_resnet_v2_B(x)\n",
    "x = inception_resnet_v2_reduction_B(x)\n",
    "for i in range(num_C_blocks):\n",
    "    x = inception_resnet_v2_C(x)\n",
    "\n",
    "x = AveragePooling2D(pool_size=(4, 4), strides=(1, 1), padding='valid', data_format=\"channels_last\")(x)\n",
    "x = Dropout(0.5)(x)\n",
    "x = Flatten()(x)\n",
    "\n",
    "predictions = Dense(nb_classes, activation='softmax')(x)\n",
    "\n",
    "model = Model(input=inputs, output=predictions)"
   ]
  },
  {
   "cell_type": "code",
   "execution_count": 22,
   "metadata": {
    "scrolled": false
   },
   "outputs": [
    {
     "name": "stdout",
     "output_type": "stream",
     "text": [
      "Model: \"model_1\"\n",
      "__________________________________________________________________________________________________\n",
      "Layer (type)                    Output Shape         Param #     Connected to                     \n",
      "==================================================================================================\n",
      "input_2 (InputLayer)            (None, 150, 150, 3)  0                                            \n",
      "__________________________________________________________________________________________________\n",
      "conv2d_40 (Conv2D)              (None, 148, 148, 4)  112         input_2[0][0]                    \n",
      "__________________________________________________________________________________________________\n",
      "conv2d_41 (Conv2D)              (None, 146, 146, 4)  148         conv2d_40[0][0]                  \n",
      "__________________________________________________________________________________________________\n",
      "conv2d_42 (Conv2D)              (None, 146, 146, 8)  296         conv2d_41[0][0]                  \n",
      "__________________________________________________________________________________________________\n",
      "max_pooling2d_5 (MaxPooling2D)  (None, 144, 144, 8)  0           conv2d_42[0][0]                  \n",
      "__________________________________________________________________________________________________\n",
      "conv2d_43 (Conv2D)              (None, 144, 144, 12) 876         conv2d_42[0][0]                  \n",
      "__________________________________________________________________________________________________\n",
      "concatenate_9 (Concatenate)     (None, 144, 144, 20) 0           max_pooling2d_5[0][0]            \n",
      "                                                                 conv2d_43[0][0]                  \n",
      "__________________________________________________________________________________________________\n",
      "conv2d_46 (Conv2D)              (None, 144, 144, 8)  168         concatenate_9[0][0]              \n",
      "__________________________________________________________________________________________________\n",
      "conv2d_47 (Conv2D)              (None, 144, 144, 8)  456         conv2d_46[0][0]                  \n",
      "__________________________________________________________________________________________________\n",
      "conv2d_44 (Conv2D)              (None, 144, 144, 8)  168         concatenate_9[0][0]              \n",
      "__________________________________________________________________________________________________\n",
      "conv2d_48 (Conv2D)              (None, 144, 144, 8)  456         conv2d_47[0][0]                  \n",
      "__________________________________________________________________________________________________\n",
      "conv2d_45 (Conv2D)              (None, 142, 142, 12) 876         conv2d_44[0][0]                  \n",
      "__________________________________________________________________________________________________\n",
      "conv2d_49 (Conv2D)              (None, 142, 142, 12) 876         conv2d_48[0][0]                  \n",
      "__________________________________________________________________________________________________\n",
      "concatenate_10 (Concatenate)    (None, 142, 142, 24) 0           conv2d_45[0][0]                  \n",
      "                                                                 conv2d_49[0][0]                  \n",
      "__________________________________________________________________________________________________\n",
      "conv2d_50 (Conv2D)              (None, 140, 140, 24) 5208        concatenate_10[0][0]             \n",
      "__________________________________________________________________________________________________\n",
      "max_pooling2d_6 (MaxPooling2D)  (None, 140, 140, 24) 0           concatenate_10[0][0]             \n",
      "__________________________________________________________________________________________________\n",
      "concatenate_11 (Concatenate)    (None, 140, 140, 48) 0           conv2d_50[0][0]                  \n",
      "                                                                 max_pooling2d_6[0][0]            \n",
      "__________________________________________________________________________________________________\n",
      "activation_5 (Activation)       (None, 140, 140, 48) 0           concatenate_11[0][0]             \n",
      "__________________________________________________________________________________________________\n",
      "conv2d_54 (Conv2D)              (None, 140, 140, 4)  196         activation_5[0][0]               \n",
      "__________________________________________________________________________________________________\n",
      "conv2d_52 (Conv2D)              (None, 140, 140, 4)  196         activation_5[0][0]               \n",
      "__________________________________________________________________________________________________\n",
      "conv2d_55 (Conv2D)              (None, 140, 140, 6)  222         conv2d_54[0][0]                  \n",
      "__________________________________________________________________________________________________\n",
      "conv2d_51 (Conv2D)              (None, 140, 140, 4)  196         activation_5[0][0]               \n",
      "__________________________________________________________________________________________________\n",
      "conv2d_53 (Conv2D)              (None, 140, 140, 4)  148         conv2d_52[0][0]                  \n",
      "__________________________________________________________________________________________________\n",
      "conv2d_56 (Conv2D)              (None, 140, 140, 8)  440         conv2d_55[0][0]                  \n",
      "__________________________________________________________________________________________________\n",
      "concatenate_12 (Concatenate)    (None, 140, 140, 16) 0           conv2d_51[0][0]                  \n",
      "                                                                 conv2d_53[0][0]                  \n",
      "                                                                 conv2d_56[0][0]                  \n",
      "__________________________________________________________________________________________________\n",
      "conv2d_57 (Conv2D)              (None, 140, 140, 48) 816         concatenate_12[0][0]             \n",
      "__________________________________________________________________________________________________\n",
      "add_4 (Add)                     (None, 140, 140, 48) 0           activation_5[0][0]               \n",
      "                                                                 conv2d_57[0][0]                  \n",
      "__________________________________________________________________________________________________\n",
      "activation_6 (Activation)       (None, 140, 140, 48) 0           add_4[0][0]                      \n",
      "__________________________________________________________________________________________________\n",
      "conv2d_59 (Conv2D)              (None, 140, 140, 32) 1568        activation_6[0][0]               \n",
      "__________________________________________________________________________________________________\n",
      "conv2d_60 (Conv2D)              (None, 140, 140, 32) 9248        conv2d_59[0][0]                  \n",
      "__________________________________________________________________________________________________\n",
      "max_pooling2d_7 (MaxPooling2D)  (None, 69, 69, 48)   0           activation_6[0][0]               \n",
      "__________________________________________________________________________________________________\n",
      "conv2d_58 (Conv2D)              (None, 69, 69, 48)   20784       activation_6[0][0]               \n",
      "__________________________________________________________________________________________________\n",
      "conv2d_61 (Conv2D)              (None, 69, 69, 48)   13872       conv2d_60[0][0]                  \n",
      "__________________________________________________________________________________________________\n",
      "concatenate_13 (Concatenate)    (None, 69, 69, 144)  0           max_pooling2d_7[0][0]            \n",
      "                                                                 conv2d_58[0][0]                  \n",
      "                                                                 conv2d_61[0][0]                  \n",
      "__________________________________________________________________________________________________\n",
      "conv2d_63 (Conv2D)              (None, 69, 69, 16)   2320        concatenate_13[0][0]             \n",
      "__________________________________________________________________________________________________\n",
      "conv2d_64 (Conv2D)              (None, 69, 69, 20)   2260        conv2d_63[0][0]                  \n",
      "__________________________________________________________________________________________________\n",
      "conv2d_62 (Conv2D)              (None, 69, 69, 24)   3480        concatenate_13[0][0]             \n",
      "__________________________________________________________________________________________________\n",
      "conv2d_65 (Conv2D)              (None, 69, 69, 24)   3384        conv2d_64[0][0]                  \n",
      "__________________________________________________________________________________________________\n",
      "concatenate_14 (Concatenate)    (None, 69, 69, 48)   0           conv2d_62[0][0]                  \n",
      "                                                                 conv2d_65[0][0]                  \n",
      "__________________________________________________________________________________________________\n",
      "conv2d_66 (Conv2D)              (None, 69, 69, 144)  7056        concatenate_14[0][0]             \n",
      "__________________________________________________________________________________________________\n",
      "add_5 (Add)                     (None, 69, 69, 144)  0           concatenate_13[0][0]             \n",
      "                                                                 conv2d_66[0][0]                  \n",
      "__________________________________________________________________________________________________\n",
      "activation_7 (Activation)       (None, 69, 69, 144)  0           add_5[0][0]                      \n",
      "__________________________________________________________________________________________________\n",
      "conv2d_71 (Conv2D)              (None, 69, 69, 32)   4640        activation_7[0][0]               \n",
      "__________________________________________________________________________________________________\n",
      "conv2d_67 (Conv2D)              (None, 69, 69, 32)   4640        activation_7[0][0]               \n",
      "__________________________________________________________________________________________________\n",
      "conv2d_69 (Conv2D)              (None, 69, 69, 32)   4640        activation_7[0][0]               \n",
      "__________________________________________________________________________________________________\n",
      "conv2d_72 (Conv2D)              (None, 69, 69, 36)   10404       conv2d_71[0][0]                  \n",
      "__________________________________________________________________________________________________\n",
      "max_pooling2d_8 (MaxPooling2D)  (None, 34, 34, 144)  0           activation_7[0][0]               \n",
      "__________________________________________________________________________________________________\n",
      "conv2d_68 (Conv2D)              (None, 34, 34, 36)   10404       conv2d_67[0][0]                  \n",
      "__________________________________________________________________________________________________\n",
      "conv2d_70 (Conv2D)              (None, 34, 34, 36)   10404       conv2d_69[0][0]                  \n",
      "__________________________________________________________________________________________________\n",
      "conv2d_73 (Conv2D)              (None, 34, 34, 40)   13000       conv2d_72[0][0]                  \n",
      "__________________________________________________________________________________________________\n",
      "concatenate_15 (Concatenate)    (None, 34, 34, 256)  0           max_pooling2d_8[0][0]            \n",
      "                                                                 conv2d_68[0][0]                  \n",
      "                                                                 conv2d_70[0][0]                  \n",
      "                                                                 conv2d_73[0][0]                  \n",
      "__________________________________________________________________________________________________\n",
      "conv2d_75 (Conv2D)              (None, 34, 34, 24)   6168        concatenate_15[0][0]             \n",
      "__________________________________________________________________________________________________\n",
      "conv2d_76 (Conv2D)              (None, 34, 34, 28)   2044        conv2d_75[0][0]                  \n",
      "__________________________________________________________________________________________________\n",
      "conv2d_74 (Conv2D)              (None, 34, 34, 24)   6168        concatenate_15[0][0]             \n",
      "__________________________________________________________________________________________________\n",
      "conv2d_77 (Conv2D)              (None, 34, 34, 32)   2720        conv2d_76[0][0]                  \n",
      "__________________________________________________________________________________________________\n",
      "concatenate_16 (Concatenate)    (None, 34, 34, 56)   0           conv2d_74[0][0]                  \n",
      "                                                                 conv2d_77[0][0]                  \n",
      "__________________________________________________________________________________________________\n",
      "conv2d_78 (Conv2D)              (None, 34, 34, 256)  14592       concatenate_16[0][0]             \n",
      "__________________________________________________________________________________________________\n",
      "add_6 (Add)                     (None, 34, 34, 256)  0           concatenate_15[0][0]             \n",
      "                                                                 conv2d_78[0][0]                  \n",
      "__________________________________________________________________________________________________\n",
      "activation_8 (Activation)       (None, 34, 34, 256)  0           add_6[0][0]                      \n",
      "__________________________________________________________________________________________________\n",
      "average_pooling2d_2 (AveragePoo (None, 31, 31, 256)  0           activation_8[0][0]               \n",
      "__________________________________________________________________________________________________\n",
      "dropout_2 (Dropout)             (None, 31, 31, 256)  0           average_pooling2d_2[0][0]        \n",
      "__________________________________________________________________________________________________\n",
      "flatten_2 (Flatten)             (None, 246016)       0           dropout_2[0][0]                  \n",
      "__________________________________________________________________________________________________\n",
      "dense_2 (Dense)                 (None, 204)          50187468    flatten_2[0][0]                  \n",
      "==================================================================================================\n",
      "Total params: 50,353,118\n",
      "Trainable params: 50,353,118\n",
      "Non-trainable params: 0\n",
      "__________________________________________________________________________________________________\n"
     ]
    }
   ],
   "source": [
    "model.summary()"
   ]
  },
  {
   "cell_type": "code",
   "execution_count": 23,
   "metadata": {},
   "outputs": [],
   "source": [
    "model.compile(optimizer='adam',  #optimizer=optimizers.RMSprop(lr=2e-5), could also try that\n",
    "              loss='categorical_crossentropy',  \n",
    "              metrics=['accuracy'])"
   ]
  },
  {
   "cell_type": "code",
   "execution_count": 33,
   "metadata": {},
   "outputs": [],
   "source": [
    "#setting up all the parameter for training\n",
    "batch_size = 16 #try 32, 128\n",
    "epoch = 100 # try 50, 100.\n",
    "data_augmentation = True"
   ]
  },
  {
   "cell_type": "markdown",
   "metadata": {},
   "source": [
    "# preprocessing the data\n",
    "\n",
    "1 Read the picture files.\n",
    "\n",
    "2 Decode the JPEG content to RGB grids of pixels.\n",
    "\n",
    "3 Convert these into floating-point tensors.\n",
    "\n",
    "4 Rescale the pixel values (between 0 and 255) to the [0, 1] interval (as you know, neural networks prefer to deal with small input values)."
   ]
  },
  {
   "cell_type": "code",
   "execution_count": 25,
   "metadata": {},
   "outputs": [],
   "source": [
    "import os\n",
    "base_dir = './data_small'\n",
    "train_dir = os.path.join(base_dir, 'train') \n",
    "validation_dir = os.path.join(base_dir, 'validation') \n",
    "test_dir = os.path.join(base_dir, 'test') "
   ]
  },
  {
   "cell_type": "code",
   "execution_count": 26,
   "metadata": {},
   "outputs": [
    {
     "name": "stdout",
     "output_type": "stream",
     "text": [
      "Found 19998 images belonging to 204 classes.\n",
      "Found 9900 images belonging to 204 classes.\n"
     ]
    }
   ],
   "source": [
    "#preprocessing the data implementation\n",
    "#using data implementation\n",
    "from keras.preprocessing.image import ImageDataGenerator\n",
    "\n",
    "train_datagen = ImageDataGenerator(\n",
    "rescale=1./255,\n",
    "rotation_range=40,\n",
    "width_shift_range=0.2,\n",
    "height_shift_range=0.2,\n",
    "shear_range=0.2,\n",
    "zoom_range=0.2,\n",
    "horizontal_flip=True)\n",
    "\n",
    "train_generator = train_datagen.flow_from_directory(\n",
    "    train_dir, #train_dir is the path where you store all the validaiton folder, chnage this\n",
    "    target_size = (150,150), #try 1920,1080\n",
    "    batch_size = batch_size,\n",
    "    class_mode = 'categorical')\n",
    "\n",
    "validation_generator = train_datagen.flow_from_directory(\n",
    "    validation_dir, #train_dir is the path where you store all the validation folder, change this\n",
    "    target_size = (150,150),\n",
    "    batch_size = batch_size,\n",
    "    class_mode = 'categorical')"
   ]
  },
  {
   "cell_type": "code",
   "execution_count": 38,
   "metadata": {},
   "outputs": [],
   "source": [
    "# saving the best model\n",
    "# checkpoint\n",
    "from keras.callbacks import TensorBoard\n",
    "\n",
    "filepath=\"waste_sort_weights_best.h5\"\n",
    "\n",
    "\n",
    "checkpoint = ModelCheckpoint(filepath, monitor='val_accuracy', verbose=1, save_best_only=True, mode='max')\n",
    "callbacks_list = [keras.callbacks.TensorBoard(\n",
    "    log_dir = 'my_log_dir',\n",
    "    histogram_freq=0, #records activation histogram every 1 epoch\n",
    "    embeddings_freq=0,\n",
    "    #write_graph=True,\n",
    "    #write_images=True#recoding embedding data every 1 epoch\n",
    "                                             ),checkpoint]\n",
    "\n",
    "#for windows\n",
    "#log_dir=\"logs/fit/\" + datetime.datetime.now().strftime(\"%Y%m%d-%H%M%S\")\n",
    "tensorboard_callback = tf.keras.callbacks.TensorBoard(log_dir='my_log', histogram_freq=0)\n",
    "\n",
    "\n",
    "callbacks_list2 = [tensorboard_callback,checkpoint]"
   ]
  },
  {
   "cell_type": "code",
   "execution_count": 39,
   "metadata": {
    "scrolled": true
   },
   "outputs": [
    {
     "ename": "AttributeError",
     "evalue": "'Model' object has no attribute '_get_distribution_strategy'",
     "output_type": "error",
     "traceback": [
      "\u001b[1;31m---------------------------------------------------------------------------\u001b[0m",
      "\u001b[1;31mAttributeError\u001b[0m                            Traceback (most recent call last)",
      "\u001b[1;32m<ipython-input-39-525f92e93e0c>\u001b[0m in \u001b[0;36m<module>\u001b[1;34m\u001b[0m\n\u001b[0;32m      6\u001b[0m \u001b[0mvalidation_data\u001b[0m\u001b[1;33m=\u001b[0m\u001b[0mvalidation_generator\u001b[0m\u001b[1;33m,\u001b[0m\u001b[1;33m\u001b[0m\u001b[1;33m\u001b[0m\u001b[0m\n\u001b[0;32m      7\u001b[0m \u001b[0mvalidation_steps\u001b[0m\u001b[1;33m=\u001b[0m\u001b[1;36m50\u001b[0m\u001b[1;33m,\u001b[0m\u001b[1;33m\u001b[0m\u001b[1;33m\u001b[0m\u001b[0m\n\u001b[1;32m----> 8\u001b[1;33m callbacks = callbacks_list2) #change here\n\u001b[0m",
      "\u001b[1;32mc:\\program files\\python36\\lib\\site-packages\\keras\\legacy\\interfaces.py\u001b[0m in \u001b[0;36mwrapper\u001b[1;34m(*args, **kwargs)\u001b[0m\n\u001b[0;32m     89\u001b[0m                 warnings.warn('Update your `' + object_name + '` call to the ' +\n\u001b[0;32m     90\u001b[0m                               'Keras 2 API: ' + signature, stacklevel=2)\n\u001b[1;32m---> 91\u001b[1;33m             \u001b[1;32mreturn\u001b[0m \u001b[0mfunc\u001b[0m\u001b[1;33m(\u001b[0m\u001b[1;33m*\u001b[0m\u001b[0margs\u001b[0m\u001b[1;33m,\u001b[0m \u001b[1;33m**\u001b[0m\u001b[0mkwargs\u001b[0m\u001b[1;33m)\u001b[0m\u001b[1;33m\u001b[0m\u001b[1;33m\u001b[0m\u001b[0m\n\u001b[0m\u001b[0;32m     92\u001b[0m         \u001b[0mwrapper\u001b[0m\u001b[1;33m.\u001b[0m\u001b[0m_original_function\u001b[0m \u001b[1;33m=\u001b[0m \u001b[0mfunc\u001b[0m\u001b[1;33m\u001b[0m\u001b[1;33m\u001b[0m\u001b[0m\n\u001b[0;32m     93\u001b[0m         \u001b[1;32mreturn\u001b[0m \u001b[0mwrapper\u001b[0m\u001b[1;33m\u001b[0m\u001b[1;33m\u001b[0m\u001b[0m\n",
      "\u001b[1;32mc:\\program files\\python36\\lib\\site-packages\\keras\\engine\\training.py\u001b[0m in \u001b[0;36mfit_generator\u001b[1;34m(self, generator, steps_per_epoch, epochs, verbose, callbacks, validation_data, validation_steps, validation_freq, class_weight, max_queue_size, workers, use_multiprocessing, shuffle, initial_epoch)\u001b[0m\n\u001b[0;32m   1730\u001b[0m             \u001b[0muse_multiprocessing\u001b[0m\u001b[1;33m=\u001b[0m\u001b[0muse_multiprocessing\u001b[0m\u001b[1;33m,\u001b[0m\u001b[1;33m\u001b[0m\u001b[1;33m\u001b[0m\u001b[0m\n\u001b[0;32m   1731\u001b[0m             \u001b[0mshuffle\u001b[0m\u001b[1;33m=\u001b[0m\u001b[0mshuffle\u001b[0m\u001b[1;33m,\u001b[0m\u001b[1;33m\u001b[0m\u001b[1;33m\u001b[0m\u001b[0m\n\u001b[1;32m-> 1732\u001b[1;33m             initial_epoch=initial_epoch)\n\u001b[0m\u001b[0;32m   1733\u001b[0m \u001b[1;33m\u001b[0m\u001b[0m\n\u001b[0;32m   1734\u001b[0m     \u001b[1;33m@\u001b[0m\u001b[0minterfaces\u001b[0m\u001b[1;33m.\u001b[0m\u001b[0mlegacy_generator_methods_support\u001b[0m\u001b[1;33m\u001b[0m\u001b[1;33m\u001b[0m\u001b[0m\n",
      "\u001b[1;32mc:\\program files\\python36\\lib\\site-packages\\keras\\engine\\training_generator.py\u001b[0m in \u001b[0;36mfit_generator\u001b[1;34m(model, generator, steps_per_epoch, epochs, verbose, callbacks, validation_data, validation_steps, validation_freq, class_weight, max_queue_size, workers, use_multiprocessing, shuffle, initial_epoch)\u001b[0m\n\u001b[0;32m     98\u001b[0m     \u001b[0mcallback_model\u001b[0m \u001b[1;33m=\u001b[0m \u001b[0mmodel\u001b[0m\u001b[1;33m.\u001b[0m\u001b[0m_get_callback_model\u001b[0m\u001b[1;33m(\u001b[0m\u001b[1;33m)\u001b[0m\u001b[1;33m\u001b[0m\u001b[1;33m\u001b[0m\u001b[0m\n\u001b[0;32m     99\u001b[0m \u001b[1;33m\u001b[0m\u001b[0m\n\u001b[1;32m--> 100\u001b[1;33m     \u001b[0mcallbacks\u001b[0m\u001b[1;33m.\u001b[0m\u001b[0mset_model\u001b[0m\u001b[1;33m(\u001b[0m\u001b[0mcallback_model\u001b[0m\u001b[1;33m)\u001b[0m\u001b[1;33m\u001b[0m\u001b[1;33m\u001b[0m\u001b[0m\n\u001b[0m\u001b[0;32m    101\u001b[0m     callbacks.set_params({\n\u001b[0;32m    102\u001b[0m         \u001b[1;34m'epochs'\u001b[0m\u001b[1;33m:\u001b[0m \u001b[0mepochs\u001b[0m\u001b[1;33m,\u001b[0m\u001b[1;33m\u001b[0m\u001b[1;33m\u001b[0m\u001b[0m\n",
      "\u001b[1;32mc:\\program files\\python36\\lib\\site-packages\\keras\\callbacks\\callbacks.py\u001b[0m in \u001b[0;36mset_model\u001b[1;34m(self, model)\u001b[0m\n\u001b[0;32m     66\u001b[0m         \u001b[0mself\u001b[0m\u001b[1;33m.\u001b[0m\u001b[0mmodel\u001b[0m \u001b[1;33m=\u001b[0m \u001b[0mmodel\u001b[0m\u001b[1;33m\u001b[0m\u001b[1;33m\u001b[0m\u001b[0m\n\u001b[0;32m     67\u001b[0m         \u001b[1;32mfor\u001b[0m \u001b[0mcallback\u001b[0m \u001b[1;32min\u001b[0m \u001b[0mself\u001b[0m\u001b[1;33m.\u001b[0m\u001b[0mcallbacks\u001b[0m\u001b[1;33m:\u001b[0m\u001b[1;33m\u001b[0m\u001b[1;33m\u001b[0m\u001b[0m\n\u001b[1;32m---> 68\u001b[1;33m             \u001b[0mcallback\u001b[0m\u001b[1;33m.\u001b[0m\u001b[0mset_model\u001b[0m\u001b[1;33m(\u001b[0m\u001b[0mmodel\u001b[0m\u001b[1;33m)\u001b[0m\u001b[1;33m\u001b[0m\u001b[1;33m\u001b[0m\u001b[0m\n\u001b[0m\u001b[0;32m     69\u001b[0m \u001b[1;33m\u001b[0m\u001b[0m\n\u001b[0;32m     70\u001b[0m     \u001b[1;32mdef\u001b[0m \u001b[0m_call_batch_hook\u001b[0m\u001b[1;33m(\u001b[0m\u001b[0mself\u001b[0m\u001b[1;33m,\u001b[0m \u001b[0mmode\u001b[0m\u001b[1;33m,\u001b[0m \u001b[0mhook\u001b[0m\u001b[1;33m,\u001b[0m \u001b[0mbatch\u001b[0m\u001b[1;33m,\u001b[0m \u001b[0mlogs\u001b[0m\u001b[1;33m=\u001b[0m\u001b[1;32mNone\u001b[0m\u001b[1;33m)\u001b[0m\u001b[1;33m:\u001b[0m\u001b[1;33m\u001b[0m\u001b[1;33m\u001b[0m\u001b[0m\n",
      "\u001b[1;32mc:\\program files\\python36\\lib\\site-packages\\tensorflow_core\\python\\keras\\callbacks.py\u001b[0m in \u001b[0;36mset_model\u001b[1;34m(self, model)\u001b[0m\n\u001b[0;32m   1530\u001b[0m     \u001b[1;31m# possibly distributed settings.\u001b[0m\u001b[1;33m\u001b[0m\u001b[1;33m\u001b[0m\u001b[1;33m\u001b[0m\u001b[0m\n\u001b[0;32m   1531\u001b[0m     self._log_write_dir = distributed_file_utils.write_dirpath(\n\u001b[1;32m-> 1532\u001b[1;33m         self.log_dir, self.model._get_distribution_strategy())  # pylint: disable=protected-access\n\u001b[0m\u001b[0;32m   1533\u001b[0m \u001b[1;33m\u001b[0m\u001b[0m\n\u001b[0;32m   1534\u001b[0m     \u001b[1;32mwith\u001b[0m \u001b[0mcontext\u001b[0m\u001b[1;33m.\u001b[0m\u001b[0meager_mode\u001b[0m\u001b[1;33m(\u001b[0m\u001b[1;33m)\u001b[0m\u001b[1;33m:\u001b[0m\u001b[1;33m\u001b[0m\u001b[1;33m\u001b[0m\u001b[0m\n",
      "\u001b[1;31mAttributeError\u001b[0m: 'Model' object has no attribute '_get_distribution_strategy'"
     ]
    }
   ],
   "source": [
    "#training the model, fit the data\n",
    "history = model.fit_generator(\n",
    "train_generator,\n",
    "steps_per_epoch=100,\n",
    "epochs=epoch,\n",
    "validation_data=validation_generator,\n",
    "validation_steps=50,\n",
    "callbacks = callbacks_list2) #change here"
   ]
  },
  {
   "cell_type": "code",
   "execution_count": 11,
   "metadata": {},
   "outputs": [],
   "source": [
    "model.save('wastesorting_resnet_inception_v2.h5') #model checkpoints for the last epoch"
   ]
  },
  {
   "cell_type": "code",
   "execution_count": null,
   "metadata": {},
   "outputs": [],
   "source": [
    "from keras.models import load_model\n",
    "model = load_model('wastesorting_resnet_inception_v2.h5')"
   ]
  },
  {
   "cell_type": "code",
   "execution_count": null,
   "metadata": {},
   "outputs": [],
   "source": [
    "#predicting the results\n",
    "\n",
    "# from keras.models import load_model\n",
    "# model = load_model('waste_sort_weights_best.h5')"
   ]
  },
  {
   "cell_type": "code",
   "execution_count": 44,
   "metadata": {},
   "outputs": [],
   "source": [
    "#this is from my mac, we had differnt version.\n",
    "#import the model_weights\n",
    "from keras.models import load_model\n",
    "\n",
    "model.load_weights('wastesorting_resnet_inception_v2.h5')\n",
    "\n",
    "model.compile(optimizer='adam',  #optimizer=optimizers.RMSprop(lr=2e-5), could also try that\n",
    "              loss='categorical_crossentropy',  \n",
    "              metrics=['accuracy'])"
   ]
  },
  {
   "cell_type": "code",
   "execution_count": 68,
   "metadata": {},
   "outputs": [],
   "source": [
    "#Compiling a test for the model\n",
    "\n",
    "from keras.models import load_model\n",
    "from keras.preprocessing import image\n",
    "import numpy as np\n",
    "\n",
    "img_path = '/Users/mithyyin/Documents/GitHub/TeamEve/Classfication_small_datasets_inception_v3/test/0/0a34b84485dc.png'\n",
    "\n",
    "img = image.load_img(img_path, target_size=(229,229))\n",
    "x = image.img_to_array(img)\n",
    "x = np.expand_dims(x,axis=0)\n",
    "x /= 255. #don't forget this shit brother"
   ]
  },
  {
   "cell_type": "code",
   "execution_count": 69,
   "metadata": {},
   "outputs": [
    {
     "data": {
      "image/png": "[encoded data removed]",
      "text/plain": [
       "<Figure size 432x288 with 1 Axes>"
      ]
     },
     "metadata": {
      "needs_background": "light"
     },
     "output_type": "display_data"
    }
   ],
   "source": [
    "import matplotlib.pyplot as plt\n",
    "\n",
    "plt.imshow(x[0])\n",
    "plt.show()"
   ]
  },
  {
   "cell_type": "code",
   "execution_count": 71,
   "metadata": {},
   "outputs": [
    {
     "name": "stdout",
     "output_type": "stream",
     "text": [
      "[49]\n"
     ]
    }
   ],
   "source": [
    "images = np.vstack([x])\n",
    "\n",
    "classes = model.predict(x)\n",
    "y_classes = classes.argmax(axis=-1)\n",
    "\n",
    "print(y_classes)"
   ]
  },
  {
   "cell_type": "code",
   "execution_count": 81,
   "metadata": {},
   "outputs": [
    {
     "name": "stdout",
     "output_type": "stream",
     "text": [
      "Found 100 images belonging to 1 classes.\n",
      "100/100 [==============================] - 6s 56ms/step\n",
      "000f0e3a30ea 114 0.9799569845199585\n",
      "00a2bdf5c7c9 92 0.3884976804256439\n",
      "00a54f56e137 30 0.5228327512741089\n",
      "00aa6dcc3401 43 0.8356646299362183\n",
      "00aeb267a6d6 87 0.9710210561752319\n",
      "00aefdcb0543 4 0.5418986678123474\n",
      "00aff96fa05d 115 0.5269193649291992\n",
      "00b0c9dbaf8d 112 0.5582687854766846\n",
      "00c72f58943b 28 0.279292494058609\n",
      "00ca17f5838d 46 0.9543931484222412\n",
      "00d2ef71123d 94 0.5710656642913818\n",
      "00d5bc1242a4 59 0.9999995231628418\n",
      "00de2800f477 118 0.8259161114692688\n",
      "00e3fcbf059c 181 0.7111508846282959\n",
      "00e9c4b3d491 166 0.4722172021865845\n",
      "00ea9b65bcac 33 0.8132795691490173\n",
      "00ec40a77bd0 69 0.4924282729625702\n",
      "00f0b47e1ffb 156 0.9974645376205444\n",
      "00f0fa8f4aed 134 0.7727859020233154\n",
      "00fb5604291a 61 0.4785296618938446\n",
      "00fe0c1c4812 169 0.5067659020423889\n",
      "00ff841529f9 20 0.8055550456047058\n",
      "0a03d9315b84 18 0.31686750054359436\n",
      "0a0e20a64a0b 148 0.5481390357017517\n",
      "0a1afde2f6ae 48 0.3789580464363098\n",
      "0a228829a14d 103 0.4321085214614868\n",
      "0a31d5526e5c 99 0.9996832609176636\n",
      "0a34348ed8bd 99 0.6324055790901184\n",
      "0a34b84485dc 51 0.9642386436462402\n",
      "0a38085d60f1 191 0.6781968474388123\n",
      "0a387e9d6d5c 194 0.993880033493042\n",
      "0a3c7f05b05a 68 0.464603066444397\n",
      "0a44874ac123 149 0.8164668083190918\n",
      "0a46123292de 63 0.9019960165023804\n",
      "0a4aea99d0c2 108 0.6241660714149475\n",
      "0a525849a0c9 30 0.9999822378158569\n",
      "0a5c9a0dcaae 17 0.8055221438407898\n",
      "0a5fec2ec4bf 160 0.4009421467781067\n",
      "0a6c38ee071b 198 0.3401864171028137\n",
      "0a6d1bf6830b 58 0.4278414249420166\n",
      "0a738aa683a0 180 0.9936681389808655\n",
      "0a78a03acf5d 122 0.6028423309326172\n",
      "0a794a2ca207 200 0.5274350643157959\n",
      "0a8220e81b8b 130 0.8651821613311768\n",
      "0a828019e661 5 0.24369676411151886\n",
      "0a9b5efb9f4a 176 0.9428949356079102\n",
      "0aa93ccb8f06 97 0.5353792905807495\n",
      "0aae1874839d 91 0.7235100865364075\n",
      "0aaf41fecbdd 59 0.9998233914375305\n",
      "0ab7958b2869 43 0.7674291133880615\n",
      "0ab91079ed35 144 0.9707275629043579\n",
      "0abb19702afa 7 0.5865644216537476\n",
      "0abdba95641f 115 0.9612042307853699\n",
      "0abe6402b8ab 33 0.6537199020385742\n",
      "0ac326f3d45b 153 0.3004857897758484\n",
      "0ac712b0a424 169 0.2723468840122223\n",
      "0acfe4ffd01f 189 0.949556827545166\n",
      "0af28bfd0cf0 194 0.8968541026115417\n",
      "0af675d8f9f9 114 0.9166839718818665\n",
      "0af71affa395 9 0.7776825428009033\n",
      "0af9a264eaf8 5 0.7818438410758972\n",
      "0b004649dcb1 120 0.5279040336608887\n",
      "0b0146ce9e8a 113 0.9921374917030334\n",
      "0b0d2db52bf9 167 0.9501968026161194\n",
      "0b126c4982d1 178 0.999996542930603\n",
      "0b12798464ea 70 0.8485181331634521\n",
      "0b1f143ff367 44 0.6502304673194885\n",
      "0b2756e5df10 148 0.9046998620033264\n",
      "0b2ab1d09548 70 0.9117666482925415\n",
      "0b2c9501f8b9 20 0.8936225175857544\n",
      "0b307691ff49 180 0.7150934338569641\n",
      "0b3414ae97e0 108 0.7915880084037781\n",
      "0b359aa71e16 26 0.42260897159576416\n",
      "0b370360aa17 1 0.692975640296936\n",
      "0b3d611d5657 83 0.9942036271095276\n",
      "0b3e7e340092 178 0.9153813719749451\n",
      "0b497194d33e 59 0.9350818395614624\n",
      "0b4fbaa4a797 200 0.750251054763794\n",
      "0b5130e2cded 187 0.6478675007820129\n",
      "0b51d5c705f2 42 0.9967113733291626\n",
      "0b5957d5b2e2 132 0.9999653100967407\n",
      "0b5bd9076e82 65 0.9470773935317993\n",
      "0b5bfed29781 92 0.3911692202091217\n",
      "0b5e8a0d05f9 7 0.7247210144996643\n",
      "0b62f498973d 204 0.8115684986114502\n",
      "0b632568eef0 138 0.9366764426231384\n",
      "0b63c749d075 178 0.9998838901519775\n",
      "0b644548995f 172 0.9870358109474182\n",
      "0b67422ae3d4 7 0.35690420866012573\n",
      "0b6c0a53d7e6 103 0.5330618023872375\n",
      "0b70f3f9bbfe 179 0.7516909837722778\n",
      "0b717f85e84f 109 0.9294840097427368\n",
      "0b7317ea5757 185 0.7966185808181763\n",
      "0b73e94d28d3 103 0.7385854721069336\n",
      "0b777074dc8f 112 0.42926546931266785\n",
      "0b7dfdaa3774 63 0.40966513752937317\n",
      "0b8b304a671e 73 0.28375130891799927\n",
      "0b8be7dee39c 154 0.9352887868881226\n",
      "0b8e3a4a9b6a 83 0.3945906162261963\n",
      "0b8e97e80ca3 19 0.9746035933494568\n"
     ]
    }
   ],
   "source": [
    "import csv\n",
    "import json\n",
    "from keras.preprocessing.image import ImageDataGenerator\n",
    "\n",
    "headers=['id', 'label']\n",
    "cat_temp={0: 1, 1: 2, 2: 3, 3: 4, 4: 5, 5: 6, 6: 7, 7: 8, 8: 9, 9: 10, \n",
    "          10: 11, 11: 12, 12: 13, 13: 14, 14: 15, 15: 16, 16: 17, 17: 18, 18: 19, 19: 20, \n",
    "          20: 21, 21: 22, 22: 23, 23: 24, 24: 25, 25: 26, 26: 27, 27: 28, 28: 29, 29: 30, \n",
    "          30: 31, 31: 32, 32: 33, 33: 34, 34: 35, 35: 37, 36: 38, 37: 39, 38: 40, 39: 41, \n",
    "          40: 42, 41: 43, 42: 44, 43: 45, 44: 46, 45: 47, 46: 48, 47: 49, 48: 50, 49: 51, \n",
    "          50: 52, 51: 53, 52: 54, 53: 55, 54: 56, 55: 57, 56: 58, 57: 59, 58: 60, 59: 61, \n",
    "          60: 62, 61: 63, 62: 64, 63: 65, 64: 66, 65: 67, 66: 68, 67: 69, 68: 70, 69: 71, \n",
    "          70: 72, 71: 73, 72: 74, 73: 75, 74: 76, 75: 77, 76: 78, 77: 79, 78: 80, 79: 81, \n",
    "          80: 82, 81: 83, 82: 84, 83: 85, 84: 86, 85: 87, 86: 88, 87: 89, 88: 90, 89: 91, \n",
    "          90: 92, 91: 93, 92: 94, 93: 95, 94: 97, 95: 98, 96: 99, 97: 100, 98: 101, 99: 102, \n",
    "          100: 103, 101: 104, 102: 105, 103: 106, 104: 107, 105: 108, 106: 109, 107: 110, 108: 111, 109: 112, \n",
    "          110: 113, 111: 114, 112: 115, 113: 116, 114: 117, 115: 118, 116: 119, 117: 120, 118: 122, 119: 123, \n",
    "          120: 124, 121: 125, 122: 126, 123: 127, 124: 128, 125: 129, 126: 130, 127: 131, 128: 132, 129: 133, \n",
    "          130: 134, 131: 135, 132: 136, 133: 137, 134: 138, 135: 139, 136: 140, 137: 141, 138: 142, 139: 143, \n",
    "          140: 144, 141: 145, 142: 146, 143: 148, 144: 149, 145: 150, 146: 151, 147: 152, 148: 153, 149: 154, \n",
    "          150: 155, 151: 156, 152: 157, 153: 158, 154: 159, 155: 160, 156: 161, 157: 162, 158: 163, 159: 164, \n",
    "          160: 165, 161: 166, 162: 167, 163: 168, 164: 169, 165: 170, 166: 171, 167: 172, 168: 173, 169: 176, \n",
    "          170: 177, 171: 178, 172: 179, 173: 180, 174: 181, 175: 182, 176: 183, 177: 184, 178: 185, 179: 186, \n",
    "          180: 187, 181: 188, 182: 189, 183: 190, 184: 191, 185: 192, 186: 193, 187: 194, 188: 195, 189: 196, \n",
    "          190: 197, 191: 198, 192: 199, 193: 200, 194: 201, 195: 202, 196: 203, 197: 204}\n",
    "\n",
    "test_datagen = ImageDataGenerator(rescale=1./255)\n",
    "test_generator = test_datagen.flow_from_directory(\n",
    "    test_dir,\n",
    "    target_size=(229, 229),\n",
    "    batch_size=1,\n",
    "    class_mode='categorical',\n",
    "    shuffle=False)\n",
    "test_generator.reset()\n",
    "\n",
    "pred = model.predict_generator(test_generator, verbose=1)\n",
    "with open('test.csv', mode='w', newline='') as f1:\n",
    "    f1_writer=csv.writer(f1, headers)\n",
    "    f1_writer.writerow(headers)\n",
    "    # f1_writer.writerow([''] + range(1000000))\n",
    "    for i in range(100):\n",
    "        #print(item)\n",
    "        likeliness=pred[i].tolist()\n",
    "        print(test_generator.filenames[i][2:14]+' '+str(cat_temp[likeliness.index(max(pred[i]))])+' '+str(max(likeliness)))\n",
    "        f1_writer.writerow([\n",
    "            test_generator.filenames[i][2:14],\n",
    "            cat_temp[likeliness.index(max(pred[i]))]\n",
    "        ])"
   ]
  },
  {
   "cell_type": "code",
   "execution_count": null,
   "metadata": {},
   "outputs": [],
   "source": []
  }
 ],
 "metadata": {
  "kernelspec": {
   "display_name": "Python 3",
   "language": "python",
   "name": "python3"
  },
  "language_info": {
   "codemirror_mode": {
    "name": "ipython",
    "version": 3
   },
   "file_extension": ".py",
   "mimetype": "text/x-python",
   "name": "python",
   "nbconvert_exporter": "python",
   "pygments_lexer": "ipython3",
   "version": "3.6.8"
  }
 },
 "nbformat": 4,
 "nbformat_minor": 2
}
