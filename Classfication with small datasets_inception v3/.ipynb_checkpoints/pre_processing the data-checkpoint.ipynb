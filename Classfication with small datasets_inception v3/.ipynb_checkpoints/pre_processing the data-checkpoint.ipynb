{
 "cells": [
  {
   "cell_type": "markdown",
   "metadata": {},
   "source": [
    "Drawing a subset of data from biendata"
   ]
  },
  {
   "cell_type": "code",
   "execution_count": 1,
   "metadata": {},
   "outputs": [],
   "source": [
    "import os, shutil"
   ]
  },
  {
   "cell_type": "code",
   "execution_count": 2,
   "metadata": {},
   "outputs": [],
   "source": [
    "original_dataset_dir = 'D:\\Wastesorting\\Train\\images_withoutrect' #directory name of your biendata\n",
    "base_dir = './data_small' #create a directory for the data subset\n",
    "\n",
    "os.mkdir(base_dir)\n",
    "\n",
    "#creating a new folder for each set\n",
    "train_dir = os.path.join(base_dir, 'train') \n",
    "os.mkdir(train_dir)\n",
    "validation_dir = os.path.join(base_dir, 'validation') \n",
    "os.mkdir(validation_dir) \n",
    "test_dir = os.path.join(base_dir, 'test') \n",
    "os.mkdir(test_dir)"
   ]
  },
  {
   "cell_type": "code",
   "execution_count": 5,
   "metadata": {},
   "outputs": [],
   "source": [
    "#making a folder for each category inside train folder\n",
    "#there are 204 categories with ID 1..204\n",
    "\n",
    "for i in range(1,205):\n",
    "    train_categories_dir = os.path.join(train_dir, str(i))\n",
    "    os.mkdir(train_categories_dir)\n",
    "    \n",
    "for i in range(1,205):\n",
    "    validation_categories_dir = os.path.join(validation_dir, str(i))\n",
    "    os.mkdir(validation_categories_dir)"
   ]
  },
  {
   "cell_type": "code",
   "execution_count": 7,
   "metadata": {},
   "outputs": [
    {
     "ename": "FileNotFoundError",
     "evalue": "[Errno 2] No such file or directory: 'D:\\\\Wastesorting\\\\Train\\\\images_withoutrect\\\\cate_names.99.jpg'",
     "output_type": "error",
     "traceback": [
      "\u001b[1;31m---------------------------------------------------------------------------\u001b[0m",
      "\u001b[1;31mFileNotFoundError\u001b[0m                         Traceback (most recent call last)",
      "\u001b[1;32m<ipython-input-7-fdd2e0c6077c>\u001b[0m in \u001b[0;36m<module>\u001b[1;34m\u001b[0m\n\u001b[0;32m      6\u001b[0m         \u001b[0msrc\u001b[0m \u001b[1;33m=\u001b[0m \u001b[0mos\u001b[0m\u001b[1;33m.\u001b[0m\u001b[0mpath\u001b[0m\u001b[1;33m.\u001b[0m\u001b[0mjoin\u001b[0m\u001b[1;33m(\u001b[0m\u001b[0moriginal_dataset_dir\u001b[0m\u001b[1;33m,\u001b[0m \u001b[0mfname\u001b[0m\u001b[1;33m)\u001b[0m\u001b[1;33m\u001b[0m\u001b[1;33m\u001b[0m\u001b[0m\n\u001b[0;32m      7\u001b[0m         \u001b[0mdst\u001b[0m \u001b[1;33m=\u001b[0m \u001b[0mos\u001b[0m\u001b[1;33m.\u001b[0m\u001b[0mpath\u001b[0m\u001b[1;33m.\u001b[0m\u001b[0mjoin\u001b[0m\u001b[1;33m(\u001b[0m\u001b[0mcate_names\u001b[0m\u001b[1;33m,\u001b[0m \u001b[0mfname\u001b[0m\u001b[1;33m)\u001b[0m\u001b[1;33m\u001b[0m\u001b[1;33m\u001b[0m\u001b[0m\n\u001b[1;32m----> 8\u001b[1;33m     \u001b[0mshutil\u001b[0m\u001b[1;33m.\u001b[0m\u001b[0mcopyfile\u001b[0m\u001b[1;33m(\u001b[0m\u001b[0msrc\u001b[0m\u001b[1;33m,\u001b[0m \u001b[0mdst\u001b[0m\u001b[1;33m)\u001b[0m\u001b[1;33m\u001b[0m\u001b[1;33m\u001b[0m\u001b[0m\n\u001b[0m\u001b[0;32m      9\u001b[0m \u001b[1;33m\u001b[0m\u001b[0m\n\u001b[0;32m     10\u001b[0m \u001b[1;32mfor\u001b[0m \u001b[0mcate_names\u001b[0m \u001b[1;32min\u001b[0m \u001b[0mvalidation_dir\u001b[0m\u001b[1;33m:\u001b[0m \u001b[1;31m#you want each folder to be an individual elements, and iterate it. cate_names = catergories names\u001b[0m\u001b[1;33m\u001b[0m\u001b[1;33m\u001b[0m\u001b[0m\n",
      "\u001b[1;32mc:\\program files\\python36\\lib\\shutil.py\u001b[0m in \u001b[0;36mcopyfile\u001b[1;34m(src, dst, follow_symlinks)\u001b[0m\n\u001b[0;32m    118\u001b[0m         \u001b[0mos\u001b[0m\u001b[1;33m.\u001b[0m\u001b[0msymlink\u001b[0m\u001b[1;33m(\u001b[0m\u001b[0mos\u001b[0m\u001b[1;33m.\u001b[0m\u001b[0mreadlink\u001b[0m\u001b[1;33m(\u001b[0m\u001b[0msrc\u001b[0m\u001b[1;33m)\u001b[0m\u001b[1;33m,\u001b[0m \u001b[0mdst\u001b[0m\u001b[1;33m)\u001b[0m\u001b[1;33m\u001b[0m\u001b[1;33m\u001b[0m\u001b[0m\n\u001b[0;32m    119\u001b[0m     \u001b[1;32melse\u001b[0m\u001b[1;33m:\u001b[0m\u001b[1;33m\u001b[0m\u001b[1;33m\u001b[0m\u001b[0m\n\u001b[1;32m--> 120\u001b[1;33m         \u001b[1;32mwith\u001b[0m \u001b[0mopen\u001b[0m\u001b[1;33m(\u001b[0m\u001b[0msrc\u001b[0m\u001b[1;33m,\u001b[0m \u001b[1;34m'rb'\u001b[0m\u001b[1;33m)\u001b[0m \u001b[1;32mas\u001b[0m \u001b[0mfsrc\u001b[0m\u001b[1;33m:\u001b[0m\u001b[1;33m\u001b[0m\u001b[1;33m\u001b[0m\u001b[0m\n\u001b[0m\u001b[0;32m    121\u001b[0m             \u001b[1;32mwith\u001b[0m \u001b[0mopen\u001b[0m\u001b[1;33m(\u001b[0m\u001b[0mdst\u001b[0m\u001b[1;33m,\u001b[0m \u001b[1;34m'wb'\u001b[0m\u001b[1;33m)\u001b[0m \u001b[1;32mas\u001b[0m \u001b[0mfdst\u001b[0m\u001b[1;33m:\u001b[0m\u001b[1;33m\u001b[0m\u001b[1;33m\u001b[0m\u001b[0m\n\u001b[0;32m    122\u001b[0m                 \u001b[0mcopyfileobj\u001b[0m\u001b[1;33m(\u001b[0m\u001b[0mfsrc\u001b[0m\u001b[1;33m,\u001b[0m \u001b[0mfdst\u001b[0m\u001b[1;33m)\u001b[0m\u001b[1;33m\u001b[0m\u001b[1;33m\u001b[0m\u001b[0m\n",
      "\u001b[1;31mFileNotFoundError\u001b[0m: [Errno 2] No such file or directory: 'D:\\\\Wastesorting\\\\Train\\\\images_withoutrect\\\\cate_names.99.jpg'"
     ]
    }
   ],
   "source": [
    "# drawing datasets from the original biendata sets\n",
    "for cate_names in train_dir: #you want each folder to be an individual elements, and iterate it. cate_names = catergories names\n",
    "    fnames = ['cate_names.{}.jpg'.format(i) for i in range(100)]  #the index of each images, drawing 100 images from each folder\n",
    "    \n",
    "    for fname in fnames:\n",
    "        src = os.path.join(original_dataset_dir, fname) \n",
    "        dst = os.path.join(cate_names, fname)\n",
    "        shutil.copyfile(src, dst)\n",
    "\n",
    "for cate_names in validation_dir: #you want each folder to be an individual elements, and iterate it. cate_names = catergories names\n",
    "    fnames = ['cate_names.{}.jpg'.format(i) for i in range(100, 150)]  #the index of each images, drawing 100 images from each folder\n",
    "    \n",
    "    for fname in fnames:\n",
    "        src = os.path.join(original_dataset_dir, fname) \n",
    "        dst = os.path.join(cate_names, fname)\n",
    "        shutil.copyfile(src, dst)\n",
    "\n",
    "for cate_names in test_dir: #you want each folder to be an individual elements, and iterate it. cate_names = catergories names\n",
    "    fnames = ['cate_names.{}.jpg'.format(i) for i in range(150, 200)]  #the index of each images, drawing 100 images from each folder\n",
    "    \n",
    "    for fname in fnames:\n",
    "        src = os.path.join(original_dataset_dir, fname) \n",
    "        dst = os.path.join(cate_names, fname)\n",
<<<<<<< HEAD
    "    shutil.copyfile(src, dst)"
=======
    "        shutil.copyfile(src, dst)"
>>>>>>> 13dcb82cf101ed9c37d2288550d88038f49497d2
   ]
  },
  {
   "cell_type": "code",
   "execution_count": 8,
   "metadata": {},
   "outputs": [
    {
     "ename": "SyntaxError",
     "evalue": "invalid syntax (<ipython-input-8-417c52ac841f>, line 2)",
     "output_type": "error",
     "traceback": [
      "\u001b[1;36m  File \u001b[1;32m\"<ipython-input-8-417c52ac841f>\"\u001b[1;36m, line \u001b[1;32m2\u001b[0m\n\u001b[1;33m    train_cate_dir = os.path.join(train_dir, 'train['categories'][0]') # 'train['categories'][0]' is supposed to access the name of the first category\u001b[0m\n\u001b[1;37m                                                              ^\u001b[0m\n\u001b[1;31mSyntaxError\u001b[0m\u001b[1;31m:\u001b[0m invalid syntax\n"
     ]
    }
   ],
   "source": [
    "# display the total images in one foler, just to make sure it is correct\n",
    "train_cate_dir = os.path.join(train_dir, 'train['categories'][0]') # 'train['categories'][0]' is supposed to access the name of the first category \n",
    "\n",
    "print('total training images from one categories:', len(os.listdir(train_cats_dir)))"
   ]
  },
  {
   "cell_type": "code",
   "execution_count": 11,
   "metadata": {},
   "outputs": [],
   "source": [
    "#importing csv files, this one not counting\n",
    "\n",
    "import csv\n",
    "import os\n",
    "\n",
    "headers=['file_name', 'image_id', 'category_id', 'category_name']\n",
    "\n",
    "os.chmod('/Users/mithyyin/Documents/GitHub/TeamEve/Classfication with small datasets_inception v3/train.csv', 766)\n",
    "\n",
    "with open('/Users/mithyyin/Documents/GitHub/TeamEve/Classfication with small datasets_inception v3/train.csv', mode='w', newline='') as f:\n",
    "    f_csv=csv.writer(f,headers)\n",
    "    f_csv.writerow(headers)\n",
    "    for i in range(80000):\n",
    "        f_csv.writerow([\n",
    "            train['images'][i]['file_name'],\n",
    "            train['images'][i]['image_id'],\n",
    "            train['annotations'][i]['category_id'],\n",
    "            train['categories'][train['annotations'][i]['category_id']-1]['name']\n",
    "        ])"
   ]
  },
  {
   "cell_type": "code",
   "execution_count": 14,
   "metadata": {},
   "outputs": [
    {
     "ename": "PermissionError",
     "evalue": "[Errno 13] Permission denied: '/Users/mithyyin/Documents/GitHub/TeamEve/Classfication with small datasets_inception v3/train.csv'",
     "output_type": "error",
     "traceback": [
      "\u001b[0;31m---------------------------------------------------------------------------\u001b[0m",
      "\u001b[0;31mPermissionError\u001b[0m                           Traceback (most recent call last)",
      "\u001b[0;32m<ipython-input-14-6ad200de631f>\u001b[0m in \u001b[0;36m<module>\u001b[0;34m\u001b[0m\n\u001b[1;32m      5\u001b[0m \u001b[0mos\u001b[0m\u001b[0;34m.\u001b[0m\u001b[0mchmod\u001b[0m\u001b[0;34m(\u001b[0m\u001b[0;34m'/Users/mithyyin/Documents/GitHub/TeamEve/Classfication with small datasets_inception v3/train.csv'\u001b[0m\u001b[0;34m,\u001b[0m \u001b[0;36m766\u001b[0m\u001b[0;34m)\u001b[0m\u001b[0;34m\u001b[0m\u001b[0m\n\u001b[1;32m      6\u001b[0m \u001b[0;34m\u001b[0m\u001b[0m\n\u001b[0;32m----> 7\u001b[0;31m \u001b[0;32mwith\u001b[0m \u001b[0mopen\u001b[0m\u001b[0;34m(\u001b[0m\u001b[0;34m'/Users/mithyyin/Documents/GitHub/TeamEve/Classfication with small datasets_inception v3/train.csv'\u001b[0m\u001b[0;34m,\u001b[0m \u001b[0mnewline\u001b[0m\u001b[0;34m=\u001b[0m\u001b[0;34m''\u001b[0m\u001b[0;34m)\u001b[0m \u001b[0;32mas\u001b[0m \u001b[0mcsvfile\u001b[0m\u001b[0;34m:\u001b[0m\u001b[0;34m\u001b[0m\u001b[0m\n\u001b[0m\u001b[1;32m      8\u001b[0m     \u001b[0mdata\u001b[0m \u001b[0;34m=\u001b[0m \u001b[0mlist\u001b[0m\u001b[0;34m(\u001b[0m\u001b[0mcsv\u001b[0m\u001b[0;34m.\u001b[0m\u001b[0mreader\u001b[0m\u001b[0;34m(\u001b[0m\u001b[0mcsvfile\u001b[0m\u001b[0;34m)\u001b[0m\u001b[0;34m)\u001b[0m\u001b[0;34m\u001b[0m\u001b[0m\n",
      "\u001b[0;31mPermissionError\u001b[0m: [Errno 13] Permission denied: '/Users/mithyyin/Documents/GitHub/TeamEve/Classfication with small datasets_inception v3/train.csv'"
     ]
    }
   ],
   "source": [
    "#importing csv files, and change it into a list\n",
    "import csv\n",
    "import os\n",
    "\n",
    "os.chmod('/Users/mithyyin/Documents/GitHub/TeamEve/Classfication with small datasets_inception v3/train.csv', 766)\n",
    "\n",
    "with open('/Users/mithyyin/Documents/GitHub/TeamEve/Classfication with small datasets_inception v3/train.csv', newline='') as csvfile:\n",
    "    data = list(csv.reader(csvfile))"
   ]
  },
  {
   "cell_type": "code",
   "execution_count": null,
   "metadata": {},
   "outputs": [],
   "source": []
  }
 ],
 "metadata": {
  "kernelspec": {
   "display_name": "Python 3",
   "language": "python",
   "name": "python3"
  },
  "language_info": {
   "codemirror_mode": {
    "name": "ipython",
    "version": 3
   },
   "file_extension": ".py",
   "mimetype": "text/x-python",
   "name": "python",
   "nbconvert_exporter": "python",
   "pygments_lexer": "ipython3",
   "version": "3.6.8"
  }
 },
 "nbformat": 4,
 "nbformat_minor": 2
}
