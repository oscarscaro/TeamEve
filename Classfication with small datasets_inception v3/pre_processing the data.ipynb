{
 "cells": [
  {
   "cell_type": "code",
   "execution_count": 1,
   "metadata": {},
   "outputs": [],
   "source": [
    "#drawing a subset of data from biendata\n",
    "\n",
    "import os, shutil"
   ]
  },
  {
   "cell_type": "code",
   "execution_count": null,
   "metadata": {},
   "outputs": [],
   "source": [
    "original_dataset_dir = '/Users/mithyyin/Desktop/垃圾' #directory name of your biendata\n",
    "base_dir = '/Users/mithyyin/Desktop/data_small' #create a new directy \n",
    "\n",
    "os.mkdir(base_dir)\n",
    "\n",
    "#creating a new folder for each one\n",
    "train_dir = os.path.join(base_dir, 'train') \n",
    "os.mkdir(train_dir)\n",
    "validation_dir = os.path.join(base_dir, 'validation') \n",
    "os.mkdir(validation_dir) \n",
    "test_dir = os.path.join(base_dir, 'test') \n",
    "os.mkdir(test_dir)\n",
    "\n",
    "#making a folder for each category inside trian folder\n",
    "\n",
    "for i in range(n): #rnage(n) should be a list of categories, how to access it IDK. don't have the folder\n",
    "    # makeadir() evaluates your condition\n",
    "    train_cateogries_dir = os.path.join(train_dir, 'i') \n",
    "    os.mkdir(train_cateogries_dir)\n",
    "    \n",
    "\n",
    "for i in range(n): #rnage(n) should be a list of categories, how to access it IDK. don't have the folder\n",
    "    # makeadir() evaluates your condition\n",
    "    validation_cateogries_dir = os.path.join(validation_dir, 'i') \n",
    "    os.mkdir(validation_cateogries_dir)      \n",
    "\n",
    "for i in range(n): #rnage(n) should be a list of categories, how to access it IDK. don't have the folder\n",
    "    # makeadir() evaluates your condition\n",
    "    test_cateogries_dir = os.path.join(test_dir, 'i') \n",
    "    os.mkdir(test_cateogries_dir)       \n",
    "            \n",
    "     "
   ]
  },
  {
   "cell_type": "code",
   "execution_count": null,
   "metadata": {},
   "outputs": [],
   "source": [
    "# drawing datasets from the original biendata sets\n",
    "for cate_names in train_dir #you want each folder to be an individual elements, and iterate it. cate_names = catergories names\n",
    "    fnames = ['cate_names.{}.jpg'.format(i) for i in range(100)]  #the index of each images, drawing 100 images from each folder\n",
    "    \n",
    "    for fname in fnames:\n",
    "        src = os.path.join(original_dataset_dir, fname) \n",
    "        dst = os.path.join(cate_names, fname)\n",
    "    shutil.copyfile(src, dst)\n",
    "\n",
    "for cate_names in validation_dir #you want each folder to be an individual elements, and iterate it. cate_names = catergories names\n",
    "    fnames = ['cate_names.{}.jpg'.format(i) for i in range(100, 150)]  #the index of each images, drawing 100 images from each folder\n",
    "    \n",
    "    for fname in fnames:\n",
    "        src = os.path.join(original_dataset_dir, fname) \n",
    "        dst = os.path.join(cate_names, fname)\n",
    "    shutil.copyfile(src, dst)\n",
    "\n",
    "    \n",
    "for cate_names in test_dir #you want each folder to be an individual elements, and iterate it. cate_names = catergories names\n",
    "    fnames = ['cate_names.{}.jpg'.format(i) for i in range(150, 200)]  #the index of each images, drawing 100 images from each folder\n",
    "    \n",
    "    for fname in fnames:\n",
    "        src = os.path.join(original_dataset_dir, fname) \n",
    "        dst = os.path.join(cate_names, fname)\n",
    "    shutil.copyfile(src, dst)\n",
    "\n",
    "\n"
   ]
  },
  {
   "cell_type": "code",
   "execution_count": null,
   "metadata": {},
   "outputs": [],
   "source": [
    "# display the total images in one foler, just to make sure it is correct\n",
    "train_cate_dir = os.path.join(train_dir, 'train['categories'][0]') # 'train['categories'][0]' is supposed to access the name of the first category \n",
    "\n",
    "print('total training images from one categories:', len(os.listdir(train_cats_dir)))"
   ]
  }
 ],
 "metadata": {
  "kernelspec": {
   "display_name": "Python 3",
   "language": "python",
   "name": "python3"
  },
  "language_info": {
   "codemirror_mode": {
    "name": "ipython",
    "version": 3
   },
   "file_extension": ".py",
   "mimetype": "text/x-python",
   "name": "python",
   "nbconvert_exporter": "python",
   "pygments_lexer": "ipython3",
   "version": "3.6.5"
  }
 },
 "nbformat": 4,
 "nbformat_minor": 2
}
